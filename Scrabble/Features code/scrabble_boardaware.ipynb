{
 "cells": [
  {
   "cell_type": "code",
   "execution_count": 1,
   "metadata": {},
   "outputs": [
    {
     "name": "stdout",
     "output_type": "stream",
     "text": [
      "['.', '.', 'D', 'I', 'C', 'A', 'T', 'E']\n",
      "19\n"
     ]
    }
   ],
   "source": [
    "import pandas as pd\n",
    "import numpy as np\n",
    "\n",
    "turns = 'turnstrim.csv'\n",
    "turnsdf = pd.read_csv(turns, header=0)\n",
    "move_word = turnsdf.iloc[4,5]\n",
    "actual_move_points = turnsdf.iloc[4,6]\n",
    "#should only calculate if turn_type = Play\n",
    "\n",
    "\n",
    "#get rid of all wildcards and intersections\n",
    "wildcard = str.maketrans(\"abcdefghijklmnopqrstuvwxyz.\", \"0\" * 27)\n",
    "\n",
    "#scrabble points\n",
    "scrabble_letter_values = {\n",
    "    'A': 1, 'B': 3, 'C': 3, 'D': 2,\n",
    "    'E': 1, 'F': 4, 'G': 2, 'H': 4,\n",
    "    'I': 1, 'J': 8, 'K': 5, 'L': 1,\n",
    "    'M': 3, 'N': 1, 'O': 1, 'P': 3,\n",
    "    'Q': 10, 'R': 1, 'S': 1, 'T': 1,\n",
    "    'U': 1, 'V': 4, 'W': 4, 'X': 8,\n",
    "    'Y': 4, 'Z': 10, '0': 0\n",
    "}\n",
    "\n",
    "def points_above_expected(turnword):\n",
    "    move_word = turnword.translate(wildcard)\n",
    "    move_expect = sum(scrabble_letter_values.get(letter, 0) for letter in move_word)\n",
    "    return(actual_move_points - move_expect)\n",
    "\n",
    "\n",
    "print([*move_word])\n",
    "print(points_above_expected(move_word))\n",
    "\n",
    "\n"
   ]
  }
 ],
 "metadata": {
  "kernelspec": {
   "display_name": "Python 3",
   "language": "python",
   "name": "python3"
  },
  "language_info": {
   "codemirror_mode": {
    "name": "ipython",
    "version": 3
   },
   "file_extension": ".py",
   "mimetype": "text/x-python",
   "name": "python",
   "nbconvert_exporter": "python",
   "pygments_lexer": "ipython3",
   "version": "3.10.11"
  },
  "orig_nbformat": 4
 },
 "nbformat": 4,
 "nbformat_minor": 2
}
