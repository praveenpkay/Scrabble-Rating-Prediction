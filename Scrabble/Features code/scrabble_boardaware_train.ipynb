{
 "cells": [
  {
   "cell_type": "code",
   "execution_count": 42,
   "metadata": {},
   "outputs": [
    {
     "name": "stdout",
     "output_type": "stream",
     "text": [
      "         turn_number   nickname     rack location      move  points  score  \\\n",
      "game_id                                                                      \n",
      "1                  1  BetterBot  DDEGITT       8G       DIG      10     10   \n",
      "1                  2      stevy  AEHOPUX       7H       HAP      18     18   \n",
      "1                  3  BetterBot  DEELTTU       6I      LUTE      16     26   \n",
      "1                  4      stevy  EMORSUX       5K        UM      16     34   \n",
      "1                  5  BetterBot  ACDEITU       L5  ..DICATE      28     54   \n",
      "\n",
      "        turn_type  pae  \n",
      "game_id                 \n",
      "1            Play    5  \n",
      "1            Play   10  \n",
      "1            Play   12  \n",
      "1            Play   12  \n",
      "1            Play   19  \n"
     ]
    }
   ],
   "source": [
    "import pandas as pd\n",
    "import numpy as np\n",
    "\n",
    "turns = 'turns.csv'\n",
    "turnsdf = pd.read_csv(turns, header=0, index_col='game_id')\n",
    "turnsdf['move'] = turnsdf['move'].astype(str).replace('nan', 'NULL')\n",
    "\n",
    "#get rid of all wildcards and intersections\n",
    "wildcard = str.maketrans(\"abcdefghijklmnopqrstuvwxyz.\", \"0\" * 27)\n",
    "\n",
    "#scrabble points\n",
    "scrabble_letter_values = {\n",
    "    'A': 1, 'B': 3, 'C': 3, 'D': 2,\n",
    "    'E': 1, 'F': 4, 'G': 2, 'H': 4,\n",
    "    'I': 1, 'J': 8, 'K': 5, 'L': 1,\n",
    "    'M': 3, 'N': 1, 'O': 1, 'P': 3,\n",
    "    'Q': 10, 'R': 1, 'S': 1, 'T': 1,\n",
    "    'U': 1, 'V': 4, 'W': 4, 'X': 8,\n",
    "    'Y': 4, 'Z': 10, '0': 0\n",
    "}\n",
    "\n",
    "\n",
    "def points_above_expected(row):\n",
    "    points_above = 0\n",
    "    if row['turn_type'] == 'Play':\n",
    "            move_word = [*row['move'].translate(wildcard)]\n",
    "            move_expect = sum(scrabble_letter_values.get(letter, 0) for letter in move_word)\n",
    "            points_above = row['points'] - move_expect\n",
    "    return points_above\n",
    "\n",
    "turnsdf['pae'] = turnsdf.apply(points_above_expected,axis=1)\n",
    "\n",
    "print(turnsdf.head())\n",
    "\n"
   ]
  },
  {
   "cell_type": "code",
   "execution_count": 43,
   "metadata": {},
   "outputs": [
    {
     "name": "stdout",
     "output_type": "stream",
     "text": [
      "        game_id   nickname  sum  max  median\n",
      "0             1  BetterBot  230   61    13.0\n",
      "1             1      stevy  346   89    20.0\n",
      "2             2  BetterBot  307   73    14.0\n",
      "3             2      Super  394   84    20.0\n",
      "4             3  BetterBot  240   68    15.0\n",
      "...         ...        ...  ...  ...     ...\n",
      "145541    72771   HastyBot  303   83    13.0\n",
      "145542    72772  BetterBot  334   70    18.0\n",
      "145543    72772  Gtowngrad  307   60    15.5\n",
      "145544    72773   HastyBot  240   36    20.0\n",
      "145545    72773      adola  300   81    15.5\n",
      "\n",
      "[145546 rows x 5 columns]\n"
     ]
    }
   ],
   "source": [
    "total_pae = turnsdf.groupby(['game_id', 'nickname'])['pae'].agg(['sum', 'max', 'median']).reset_index()\n",
    "print(total_pae)"
   ]
  },
  {
   "cell_type": "code",
   "execution_count": 44,
   "metadata": {},
   "outputs": [
    {
     "name": "stdout",
     "output_type": "stream",
     "text": [
      "       game_id  max1  max2  median1  median2  nickname1       nickname2  sum1  \\\n",
      "0            1    61    89     13.0     20.0  BetterBot           stevy   230   \n",
      "1            2    73    84     14.0     20.0  BetterBot           Super   307   \n",
      "2            3    68    93     15.0     19.5  BetterBot       davidavid   240   \n",
      "3            4    63    19     18.0      3.5  BetterBot  Inandoutworker   372   \n",
      "4            5    73    42     16.0     13.5    STEEBot           stevy   340   \n",
      "...        ...   ...   ...      ...      ...        ...             ...   ...   \n",
      "72768    72769   182    73     22.0     12.5    STEEBot        browndav   521   \n",
      "72769    72770    96    17     19.5      4.0   HastyBot       samsiah06   461   \n",
      "72770    72771    73    83     13.0     13.0       BB-8        HastyBot   281   \n",
      "72771    72772    70    60     18.0     15.5  BetterBot       Gtowngrad   334   \n",
      "72772    72773    36    81     20.0     15.5   HastyBot           adola   240   \n",
      "\n",
      "       sum2  \n",
      "0       346  \n",
      "1       394  \n",
      "2       317  \n",
      "3        84  \n",
      "4       223  \n",
      "...     ...  \n",
      "72768   392  \n",
      "72769    71  \n",
      "72770   303  \n",
      "72771   307  \n",
      "72772   300  \n",
      "\n",
      "[72773 rows x 9 columns]\n"
     ]
    }
   ],
   "source": [
    "total_pae['count'] = total_pae.groupby('game_id').cumcount() + 1\n",
    "\n",
    "pivot_df = total_pae.pivot_table(index='game_id', columns='count', values=['nickname', 'sum', 'max', 'median'], aggfunc='first', fill_value='')\n",
    "\n",
    "pivot_df.columns = [f'{col[0]}{col[1]}' for col in pivot_df.columns]\n",
    "\n",
    "pivot_df.reset_index(inplace=True)\n",
    "\n",
    "# Display the result\n",
    "print(pivot_df)"
   ]
  }
 ],
 "metadata": {
  "kernelspec": {
   "display_name": "Python 3",
   "language": "python",
   "name": "python3"
  },
  "language_info": {
   "codemirror_mode": {
    "name": "ipython",
    "version": 3
   },
   "file_extension": ".py",
   "mimetype": "text/x-python",
   "name": "python",
   "nbconvert_exporter": "python",
   "pygments_lexer": "ipython3",
   "version": "3.10.11"
  },
  "orig_nbformat": 4
 },
 "nbformat": 4,
 "nbformat_minor": 2
}
